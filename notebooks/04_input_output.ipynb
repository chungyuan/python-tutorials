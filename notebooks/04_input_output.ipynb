{
 "cells": [
  {
   "cell_type": "markdown",
   "metadata": {
    "collapsed": true
   },
   "source": [
    "# 4. Input and Output"
   ]
  },
  {
   "cell_type": "markdown",
   "metadata": {},
   "source": [
    "## 4.1 Output Formatting"
   ]
  },
  {
   "cell_type": "markdown",
   "metadata": {},
   "source": [
    "### Basic usage of the str.format()"
   ]
  },
  {
   "cell_type": "code",
   "execution_count": null,
   "metadata": {
    "collapsed": false
   },
   "outputs": [],
   "source": [
    "print('We are the {} who say \"{}!\"'.format('knights', 'Ni'))"
   ]
  },
  {
   "cell_type": "code",
   "execution_count": null,
   "metadata": {
    "collapsed": false
   },
   "outputs": [],
   "source": [
    "print('{0} and {1}'.format('spam', 'eggs'))"
   ]
  },
  {
   "cell_type": "code",
   "execution_count": null,
   "metadata": {
    "collapsed": false
   },
   "outputs": [],
   "source": [
    "print('{1} and {0}'.format('spam', 'eggs'))"
   ]
  },
  {
   "cell_type": "code",
   "execution_count": null,
   "metadata": {
    "collapsed": false
   },
   "outputs": [],
   "source": [
    "print('The story of {0}, {1}, and {other}.'.format('Bill', 'Manfred', other='Georg'))"
   ]
  },
  {
   "cell_type": "code",
   "execution_count": null,
   "metadata": {
    "collapsed": false
   },
   "outputs": [],
   "source": [
    "import math\n",
    "print(math.pi)"
   ]
  },
  {
   "cell_type": "markdown",
   "metadata": {},
   "source": [
    "### An optional ':' and format specifier can follow the field name. This allows greater control over how the value is formatted."
   ]
  },
  {
   "cell_type": "code",
   "execution_count": null,
   "metadata": {
    "collapsed": false
   },
   "outputs": [],
   "source": [
    "print('The value of PI is approximately {0:.3f}.'.format(math.pi))"
   ]
  },
  {
   "cell_type": "code",
   "execution_count": null,
   "metadata": {
    "collapsed": false
   },
   "outputs": [],
   "source": [
    "table = {'Sjoerd': 4127, 'Jack': 4098, 'Dcab': 7678}\n",
    "for name, phone in table.items():\n",
    "        print('{0:10} ==> {1:10d}'.format(name, phone))"
   ]
  },
  {
   "cell_type": "markdown",
   "metadata": {},
   "source": [
    "## 4.2 Reading and Writing Files"
   ]
  },
  {
   "cell_type": "markdown",
   "metadata": {},
   "source": [
    "### open() returns a file object, and is most commonly used with two arguments: open(filename, mode). Mode can be 'r' when the file will only be read, 'w' for only writing"
   ]
  },
  {
   "cell_type": "code",
   "execution_count": null,
   "metadata": {
    "collapsed": true
   },
   "outputs": [],
   "source": [
    "f = open('text.txt', 'w')"
   ]
  },
  {
   "cell_type": "markdown",
   "metadata": {},
   "source": [
    "### File should be closed when you finish to using it."
   ]
  },
  {
   "cell_type": "code",
   "execution_count": null,
   "metadata": {
    "collapsed": false
   },
   "outputs": [],
   "source": [
    "f.close()\n",
    "f.read()"
   ]
  },
  {
   "cell_type": "code",
   "execution_count": null,
   "metadata": {
    "collapsed": true
   },
   "outputs": [],
   "source": [
    "f = open('text.txt', 'w')\n",
    "f.write(\"This is first line\\n\")\n",
    "f.write(\"This is second line\\n\")\n",
    "f.write(\"This is third line\\n\")\n",
    "f.close()"
   ]
  },
  {
   "cell_type": "code",
   "execution_count": null,
   "metadata": {
    "collapsed": false
   },
   "outputs": [],
   "source": [
    "f = open('text.txt', 'r')\n",
    "for line in f:\n",
    "    print(line)\n",
    "f.close()"
   ]
  },
  {
   "cell_type": "markdown",
   "metadata": {},
   "source": [
    "### Use strip( ) to trim the new line character "
   ]
  },
  {
   "cell_type": "code",
   "execution_count": null,
   "metadata": {
    "collapsed": false
   },
   "outputs": [],
   "source": [
    "f = open('text.txt', 'r')\n",
    "for line in f:\n",
    "    print(line.strip())\n",
    "f.close()"
   ]
  },
  {
   "cell_type": "markdown",
   "metadata": {},
   "source": [
    "### Use with Statements when opening file."
   ]
  },
  {
   "cell_type": "code",
   "execution_count": null,
   "metadata": {
    "collapsed": false
   },
   "outputs": [],
   "source": [
    "with open('text.txt', 'r') as f:\n",
    "    for line in f:\n",
    "        print(line.strip())"
   ]
  },
  {
   "cell_type": "markdown",
   "metadata": {},
   "source": [
    "## 4.3 Regular Expressions"
   ]
  },
  {
   "cell_type": "markdown",
   "metadata": {},
   "source": [
    "### The Python \"re\" module provides regular expression support."
   ]
  },
  {
   "cell_type": "code",
   "execution_count": null,
   "metadata": {
    "collapsed": true
   },
   "outputs": [],
   "source": [
    "import re"
   ]
  },
  {
   "cell_type": "code",
   "execution_count": null,
   "metadata": {
    "collapsed": false
   },
   "outputs": [],
   "source": [
    "s = 'an example word:cat!!'\n",
    "match = re.search(r'word:\\w\\w\\w', s)\n",
    "if match:                      \n",
    "    print('found', match.group()) ## 'found word:cat'\n",
    "else:\n",
    "    print('did not find')"
   ]
  },
  {
   "cell_type": "markdown",
   "metadata": {},
   "source": [
    "### Basic Patterns\n",
    "* a, X, 9, < -- ordinary characters just match themselves exactly. The meta-characters which do not match themselves because they have special meanings are: ```. ^ $ * + ? { [ ] \\ | ( ) (details below)```\n",
    "* . (a period) -- matches any single character except newline '\\n'\n",
    "* \\w -- (lowercase w) matches a \"word\" character: a letter or digit or underbar [a-zA-Z0-9_]. Note that although \"word\" is the mnemonic for this, it only matches a single word char, not a whole word. \\W (upper case W) matches any non-word character.\n",
    "* \\b -- boundary between word and non-word\n",
    "* \\s -- (lowercase s) matches a single whitespace character -- space, newline, return, tab, form [ \\n\\r\\t\\f]. \\S (upper case S) matches any non-whitespace character.\n",
    "* \\t, \\n, \\r -- tab, newline, return\n",
    "* \\d -- decimal digit [0-9] (some older regex utilities do not support but \\d, but they all support \\w and \\s)\n",
    "* ^ = start, $ = end -- match the start or end of the string\n",
    "* \\ -- inhibit the \"specialness\" of a character. So, for example, use \\. to match a period or \\\\ to match a slash. If you are unsure if a character has special meaning, such as '@', you can put a slash in front of it, \\@, to make sure it is treated just as a character.\n"
   ]
  },
  {
   "cell_type": "code",
   "execution_count": null,
   "metadata": {
    "collapsed": false
   },
   "outputs": [],
   "source": [
    "def match_result(match):\n",
    "    if match:                      \n",
    "        print('found', match.group()) ## 'found word:cat'\n",
    "    else:\n",
    "        print('did not find')\n",
    "        \n",
    "match_result(re.search(r'iii', 'piiig'))\n",
    "match_result(re.search(r'igs', 'piiig'))\n",
    "match_result(re.search(r'..g', 'piiig'))\n",
    "match_result(re.search(r'\\d\\d\\d', 'p123g'))\n",
    "match_result(re.search(r'\\w\\w\\w', '@@abcd!!'))"
   ]
  },
  {
   "cell_type": "markdown",
   "metadata": {},
   "source": [
    "### Repetition\n",
    "* '+' -> 1 or more occurrences of the pattern to its left, e.g. 'i+' = one or more i's\n",
    "* '*' -> 0 or more occurrences of the pattern to its left\n",
    "* '?' -> match 0 or 1 occurrences of the pattern to its left"
   ]
  },
  {
   "cell_type": "code",
   "execution_count": null,
   "metadata": {
    "collapsed": false
   },
   "outputs": [],
   "source": [
    "match_result(re.search(r'pi+', 'piiig'))\n",
    "match_result(re.search(r'i+', 'piigiiii'))\n",
    "match_result(re.search(r'\\d\\s*\\d\\s*\\d', 'xx1 2   3xx'))\n",
    "match_result(re.search(r'\\d\\s*\\d\\s*\\d', 'xx12  3xx'))\n",
    "match_result(re.search(r'\\d\\s*\\d\\s*\\d', 'xx123xx'))\n",
    "match_result(re.search(r'^b\\w+', 'foobar'))\n",
    "match_result(re.search(r'b\\w+', 'foobar'))"
   ]
  },
  {
   "cell_type": "markdown",
   "metadata": {},
   "source": [
    "### Square Brackets\n",
    "Square brackets can be used to indicate a set of chars, so [abc] matches 'a' or 'b' or 'c'."
   ]
  },
  {
   "cell_type": "code",
   "execution_count": null,
   "metadata": {
    "collapsed": false
   },
   "outputs": [],
   "source": [
    "s = 'abc-123@gmail.com'\n",
    "match = re.search(r'[\\w.-]+@[\\w.-]+', s)\n",
    "if match:\n",
    "    print(match.group())  ## 'alice-b@google.com'"
   ]
  },
  {
   "cell_type": "markdown",
   "metadata": {},
   "source": [
    "### Group Extraction\n",
    "The \"group\" feature of a regular expression allows you to pick out parts of the matching text."
   ]
  },
  {
   "cell_type": "code",
   "execution_count": null,
   "metadata": {
    "collapsed": false
   },
   "outputs": [],
   "source": [
    "s = 'purple abc-123@gmail.com monkey dishwasher'\n",
    "match = re.search('([\\w.-]+)@([\\w.-]+)', s)\n",
    "if match:\n",
    "    print(match.group())\n",
    "    print(match.group(1))\n",
    "    print(match.group(2))"
   ]
  },
  {
   "cell_type": "markdown",
   "metadata": {},
   "source": [
    "### Findall\n",
    "findall() finds **all** the matches and returns them as a list of strings"
   ]
  },
  {
   "cell_type": "code",
   "execution_count": null,
   "metadata": {
    "collapsed": false
   },
   "outputs": [],
   "source": [
    "s = 'purple abc-123@gmail.com, blah monkey 1234-abc@gmail.com blah dishwasher'\n",
    "emails = re.findall(r'[\\w\\.-]+@[\\w\\.-]+', s)\n",
    "for email in emails:\n",
    "    print(email)"
   ]
  },
  {
   "cell_type": "markdown",
   "metadata": {},
   "source": [
    "## Exercise 4.1 Formatting the Area of a Triangle exercise in notebook1 with three decimal points"
   ]
  },
  {
   "cell_type": "code",
   "execution_count": null,
   "metadata": {
    "collapsed": false
   },
   "outputs": [],
   "source": [
    "a = 5\n",
    "b = 6\n",
    "c = 7\n",
    "s = (a + b + c) / 2\n",
    "area = (s * (s - a) * (s - b) * (s - c)) ** 0.5\n",
    "print(\"The area is {:.3f}\".format(area))"
   ]
  },
  {
   "cell_type": "markdown",
   "metadata": {},
   "source": [
    "## Exercise 4.2 Use output formatting for the multiplication table exercise in notebook2"
   ]
  },
  {
   "cell_type": "code",
   "execution_count": null,
   "metadata": {
    "collapsed": false
   },
   "outputs": [],
   "source": [
    "def multiplication_table(a, b):\n",
    "    for i in range(a, b+1):\n",
    "        print('\\n')\n",
    "        for j in range(1, 10):\n",
    "            print(\"{} x {} = {}\".format(i, j, i*j))\n",
    "\n",
    "multiplication_table(2, 9)"
   ]
  },
  {
   "cell_type": "markdown",
   "metadata": {},
   "source": [
    "## Exercise 4.3 Counting jobNo and action from csv\n",
    "Hints: use split() to split the column"
   ]
  },
  {
   "cell_type": "code",
   "execution_count": null,
   "metadata": {
    "collapsed": false
   },
   "outputs": [],
   "source": [
    "actions = {}\n",
    "jobnos = {}\n",
    "with open('../data/user_log.csv') as f:\n",
    "    for line in f:\n",
    "        if 'action' in line:\n",
    "            continue\n",
    "        line = line.strip().split('|')\n",
    "        \n",
    "        action = line[1]\n",
    "        if action in actions:\n",
    "            actions[action] += 1\n",
    "        else:\n",
    "            actions[action] = 1\n",
    "            \n",
    "        jobno = line[2]\n",
    "        if jobno in jobnos:\n",
    "            jobnos[jobno] += 1\n",
    "        else:\n",
    "            jobnos[jobno] = 1\n",
    "print(actions)\n",
    "print(jobnos)"
   ]
  },
  {
   "cell_type": "code",
   "execution_count": null,
   "metadata": {
    "collapsed": false
   },
   "outputs": [],
   "source": [
    "!cat ../data/user_log.csv"
   ]
  },
  {
   "cell_type": "markdown",
   "metadata": {},
   "source": [
    "## Exercise 4.4 Find top 10 word count\n",
    "Hints: You may need split( ), strip( ), lower(), regular expressions"
   ]
  },
  {
   "cell_type": "code",
   "execution_count": null,
   "metadata": {
    "collapsed": false
   },
   "outputs": [],
   "source": [
    "d = {'d': 2, 'a': 1, 'b': 3, 'c': 0}\n",
    "d.items()\n",
    "sorted(d.items())\n",
    "l = [(value, key) for (key, value) in d.items()]\n",
    "sorted(l, reverse=True)"
   ]
  },
  {
   "cell_type": "code",
   "execution_count": null,
   "metadata": {
    "collapsed": false
   },
   "outputs": [],
   "source": [
    "word_cnt = {}\n",
    "with open('../data/alice.txt') as f:\n",
    "    for line in f:\n",
    "        words = line.strip().lower().split()\n",
    "        for word in words:\n",
    "            if word in word_cnt:\n",
    "                word_cnt[word] += 1\n",
    "            else:\n",
    "                word_cnt[word] = 1\n",
    "result = sorted([(v, k) for (k, v) in word_cnt.items()], reverse=True)\n",
    "result[:10]"
   ]
  }
 ],
 "metadata": {
  "kernelspec": {
   "display_name": "Python 3",
   "language": "python",
   "name": "python3"
  },
  "language_info": {
   "codemirror_mode": {
    "name": "ipython",
    "version": 3
   },
   "file_extension": ".py",
   "mimetype": "text/x-python",
   "name": "python",
   "nbconvert_exporter": "python",
   "pygments_lexer": "ipython3",
   "version": "3.5.2"
  }
 },
 "nbformat": 4,
 "nbformat_minor": 2
}
